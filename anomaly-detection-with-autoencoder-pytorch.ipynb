{
 "cells": [
  {
   "cell_type": "markdown",
   "metadata": {},
   "source": [
    "# Anomaly Detection with AutoEncoder (pytorch)\n",
    "Hi! I'm new to kaggle, and this is my first competition in my life. \n",
    "If you notice the better way about my implementation please tell me! :)\n",
    "\n",
    "In past fraud detection competition, some people used auto encoder approach to detect anomalous for fraud data.\n",
    "There are categorical variables in the case, however, I thought the same approach can be applied to the task.\n",
    "So I just tried it.\n",
    "\n",
    "TODO:\n",
    "- Current implementation is incorrect. training should be done by using only non fraud data.\n",
    "\n",
    "https://www.kaggle.com/jdoz22/detecting-fraud-using-an-autoencoder-and-pytorch?scriptVersionId=2802227\n",
    "https://www.kaggle.com/artgor/eda-and-models/notebook"
   ]
  },
  {
   "cell_type": "code",
   "execution_count": 2,
   "metadata": {
    "_cell_guid": "b1076dfc-b9ad-4769-8c92-a6c4dae69d19",
    "_uuid": "8f2839f25d086af736a60e9eeb907d3b93b6e0e5"
   },
   "outputs": [
    {
     "name": "stdout",
     "output_type": "stream",
     "text": [
      "Collecting xgboost\n",
      "  Downloading xgboost-1.2.0-py3-none-macosx_10_13_x86_64.macosx_10_14_x86_64.macosx_10_15_x86_64.whl (1.2 MB)\n",
      "\u001b[K     |████████████████████████████████| 1.2 MB 614 kB/s eta 0:00:01\n",
      "\u001b[?25hRequirement already satisfied: numpy in /Users/nicenoize/opt/anaconda3/lib/python3.7/site-packages (from xgboost) (1.15.2)\n",
      "Requirement already satisfied: scipy in /Users/nicenoize/opt/anaconda3/lib/python3.7/site-packages (from xgboost) (1.4.1)\n",
      "Installing collected packages: xgboost\n",
      "Successfully installed xgboost-1.2.0\n",
      "\u001b[33mWARNING: You are using pip version 20.2.2; however, version 20.2.3 is available.\n",
      "You should consider upgrading via the '/Users/nicenoize/opt/anaconda3/bin/python -m pip install --upgrade pip' command.\u001b[0m\n",
      "Note: you may need to restart the kernel to use updated packages.\n"
     ]
    }
   ],
   "source": [
    "pip install xgboost"
   ]
  },
  {
   "cell_type": "code",
   "execution_count": 4,
   "metadata": {},
   "outputs": [],
   "source": [
    "import os\n",
    "\n",
    "import numpy as np\n",
    "import pandas as pd\n",
    "from sklearn import preprocessing\n",
    "from sklearn.preprocessing import StandardScaler\n",
    "#import xgboost as xgb\n",
    "import seaborn as sns\n",
    "import collections\n",
    "\n",
    "from tqdm import tqdm, tqdm_notebook\n",
    "\n",
    "\n",
    "from sklearn.model_selection import KFold\n",
    "from sklearn.metrics import roc_auc_score\n",
    "from sklearn.metrics import (confusion_matrix, precision_recall_curve, auc,\n",
    "                             roc_curve, recall_score, classification_report, f1_score)\n",
    "from sklearn.metrics import accuracy_score, precision_score\n",
    "                            \n",
    "import torch.nn as nn\n",
    "from torch.autograd import Variable as V\n",
    "import torch.nn.functional as F\n",
    "import torch\n",
    "from torch.utils.data import DataLoader\n",
    "\n",
    "import matplotlib.pyplot as plt\n",
    "%matplotlib inline\n",
    "from bokeh.plotting import figure, output_notebook, show, ColumnDataSource\n",
    "from bokeh.models import HoverTool, NumeralTickFormatter\n",
    "from bokeh.palettes import Set3_12\n",
    "from bokeh.transform import jitter\n",
    "\n",
    "import gc\n",
    "gc.enable()"
   ]
  },
  {
   "cell_type": "code",
   "execution_count": 5,
   "metadata": {},
   "outputs": [],
   "source": [
    "# Training epochs\n",
    "epochs=10"
   ]
  },
  {
   "cell_type": "markdown",
   "metadata": {},
   "source": [
    "# Preprocessing"
   ]
  },
  {
   "cell_type": "code",
   "execution_count": 16,
   "metadata": {},
   "outputs": [
    {
     "name": "stdout",
     "output_type": "stream",
     "text": [
      "(39363, 18)\n",
      "(39363, 18)\n"
     ]
    }
   ],
   "source": [
    "train_transaction = pd.read_csv('patient_vecs.csv', index_col='SUBJECT_ID')\n",
    "test_transaction = pd.read_csv('patient_vecs.csv', index_col='SUBJECT_ID')\n",
    "\n",
    "train_identity = pd.read_csv('patient_vecs.csv', index_col='SUBJECT_ID')\n",
    "test_identity = pd.read_csv('patient_vecs.csv', index_col='SUBJECT_ID')\n",
    "\n",
    "sample_submission = pd.read_csv('patient_vecs.csv', index_col='SUBJECT_ID')\n",
    "\n",
    "train = train_transaction.merge(train_identity, how='left', left_index=True, right_index=True)\n",
    "test = test_transaction.merge(test_identity, how='left', left_index=True, right_index=True)\n",
    "\n",
    "print(train.shape)\n",
    "print(test.shape)"
   ]
  },
  {
   "cell_type": "code",
   "execution_count": 7,
   "metadata": {},
   "outputs": [
    {
     "data": {
      "text/html": [
       "<div>\n",
       "<style scoped>\n",
       "    .dataframe tbody tr th:only-of-type {\n",
       "        vertical-align: middle;\n",
       "    }\n",
       "\n",
       "    .dataframe tbody tr th {\n",
       "        vertical-align: top;\n",
       "    }\n",
       "\n",
       "    .dataframe thead th {\n",
       "        text-align: right;\n",
       "    }\n",
       "</style>\n",
       "<table border=\"1\" class=\"dataframe\">\n",
       "  <thead>\n",
       "    <tr style=\"text-align: right;\">\n",
       "      <th></th>\n",
       "      <th>GENDER_x</th>\n",
       "      <th>EXPIRE_FLAG_x</th>\n",
       "      <th>ETHNICITY_x</th>\n",
       "      <th>DIAGNOSIS_x</th>\n",
       "      <th>HAS_CHARTEVENTS_DATA_x</th>\n",
       "      <th>DRUG_x</th>\n",
       "      <th>FORMULARY_DRUG_CD_x</th>\n",
       "      <th>age_x</th>\n",
       "      <th>ICD9_CODE_x</th>\n",
       "      <th>GENDER_y</th>\n",
       "      <th>EXPIRE_FLAG_y</th>\n",
       "      <th>ETHNICITY_y</th>\n",
       "      <th>DIAGNOSIS_y</th>\n",
       "      <th>HAS_CHARTEVENTS_DATA_y</th>\n",
       "      <th>DRUG_y</th>\n",
       "      <th>FORMULARY_DRUG_CD_y</th>\n",
       "      <th>age_y</th>\n",
       "      <th>ICD9_CODE_y</th>\n",
       "    </tr>\n",
       "    <tr>\n",
       "      <th>SUBJECT_ID</th>\n",
       "      <th></th>\n",
       "      <th></th>\n",
       "      <th></th>\n",
       "      <th></th>\n",
       "      <th></th>\n",
       "      <th></th>\n",
       "      <th></th>\n",
       "      <th></th>\n",
       "      <th></th>\n",
       "      <th></th>\n",
       "      <th></th>\n",
       "      <th></th>\n",
       "      <th></th>\n",
       "      <th></th>\n",
       "      <th></th>\n",
       "      <th></th>\n",
       "      <th></th>\n",
       "      <th></th>\n",
       "    </tr>\n",
       "  </thead>\n",
       "  <tbody>\n",
       "    <tr>\n",
       "      <th>2</th>\n",
       "      <td>['M']</td>\n",
       "      <td>[0]</td>\n",
       "      <td>['ASIAN']</td>\n",
       "      <td>['NEWBORN']</td>\n",
       "      <td>[1]</td>\n",
       "      <td>['NEO*IV*Gentamicin', 'Syringe (Neonatal) *D5W...</td>\n",
       "      <td>['GENT10I', 'NEOSYRD5W', 'AMP500I', 'AMPVL']</td>\n",
       "      <td>[0]</td>\n",
       "      <td>['V3001', 'V053', 'V290']</td>\n",
       "      <td>['M']</td>\n",
       "      <td>[0]</td>\n",
       "      <td>['ASIAN']</td>\n",
       "      <td>['NEWBORN']</td>\n",
       "      <td>[1]</td>\n",
       "      <td>['NEO*IV*Gentamicin', 'Syringe (Neonatal) *D5W...</td>\n",
       "      <td>['GENT10I', 'NEOSYRD5W', 'AMP500I', 'AMPVL']</td>\n",
       "      <td>[0]</td>\n",
       "      <td>['V3001', 'V053', 'V290']</td>\n",
       "    </tr>\n",
       "    <tr>\n",
       "      <th>4</th>\n",
       "      <td>['F']</td>\n",
       "      <td>[0]</td>\n",
       "      <td>['WHITE']</td>\n",
       "      <td>['FEVER,DEHYDRATION,FAILURE TO THRIVE']</td>\n",
       "      <td>[1]</td>\n",
       "      <td>['Iso-Osmotic Dextrose', 'Insulin', 'Benzonata...</td>\n",
       "      <td>['VANCOBASE', 'GLAR100I', 'BENZ100', 'INSULIN'...</td>\n",
       "      <td>[47]</td>\n",
       "      <td>['042', '1363', '7994', '2763', '7907', '5715'...</td>\n",
       "      <td>['F']</td>\n",
       "      <td>[0]</td>\n",
       "      <td>['WHITE']</td>\n",
       "      <td>['FEVER,DEHYDRATION,FAILURE TO THRIVE']</td>\n",
       "      <td>[1]</td>\n",
       "      <td>['Iso-Osmotic Dextrose', 'Insulin', 'Benzonata...</td>\n",
       "      <td>['VANCOBASE', 'GLAR100I', 'BENZ100', 'INSULIN'...</td>\n",
       "      <td>[47]</td>\n",
       "      <td>['042', '1363', '7994', '2763', '7907', '5715'...</td>\n",
       "    </tr>\n",
       "    <tr>\n",
       "      <th>6</th>\n",
       "      <td>['F']</td>\n",
       "      <td>[0]</td>\n",
       "      <td>['WHITE']</td>\n",
       "      <td>['CHRONIC RENAL FAILURE/SDA']</td>\n",
       "      <td>[1]</td>\n",
       "      <td>['Tacrolimus', 'Warfarin', 'Heparin Sodium', '...</td>\n",
       "      <td>['TACR1', 'WARF5', 'HEPAPREMIX', 'HEPBASE', 'F...</td>\n",
       "      <td>[65]</td>\n",
       "      <td>['40391', '4440', '9972', '2766', '2767', '285...</td>\n",
       "      <td>['F']</td>\n",
       "      <td>[0]</td>\n",
       "      <td>['WHITE']</td>\n",
       "      <td>['CHRONIC RENAL FAILURE/SDA']</td>\n",
       "      <td>[1]</td>\n",
       "      <td>['Tacrolimus', 'Warfarin', 'Heparin Sodium', '...</td>\n",
       "      <td>['TACR1', 'WARF5', 'HEPAPREMIX', 'HEPBASE', 'F...</td>\n",
       "      <td>[65]</td>\n",
       "      <td>['40391', '4440', '9972', '2766', '2767', '285...</td>\n",
       "    </tr>\n",
       "    <tr>\n",
       "      <th>8</th>\n",
       "      <td>['M']</td>\n",
       "      <td>[0]</td>\n",
       "      <td>['WHITE']</td>\n",
       "      <td>['NEWBORN']</td>\n",
       "      <td>[1]</td>\n",
       "      <td>['Send 500mg Vial', 'NEO*IV*Gentamicin', 'NEO*...</td>\n",
       "      <td>['AMPVL', 'GENT10I', 'NAMP500I', 'NEOSYRD5W']</td>\n",
       "      <td>[0]</td>\n",
       "      <td>['V3001', '7706', '7746', 'V290', 'V502', 'V053']</td>\n",
       "      <td>['M']</td>\n",
       "      <td>[0]</td>\n",
       "      <td>['WHITE']</td>\n",
       "      <td>['NEWBORN']</td>\n",
       "      <td>[1]</td>\n",
       "      <td>['Send 500mg Vial', 'NEO*IV*Gentamicin', 'NEO*...</td>\n",
       "      <td>['AMPVL', 'GENT10I', 'NAMP500I', 'NEOSYRD5W']</td>\n",
       "      <td>[0]</td>\n",
       "      <td>['V3001', '7706', '7746', 'V290', 'V502', 'V053']</td>\n",
       "    </tr>\n",
       "    <tr>\n",
       "      <th>9</th>\n",
       "      <td>['M']</td>\n",
       "      <td>[1]</td>\n",
       "      <td>['UNKNOWN/NOT SPECIFIED']</td>\n",
       "      <td>['HEMORRHAGIC CVA']</td>\n",
       "      <td>[1]</td>\n",
       "      <td>['SW', 'Labetalol HCl', 'Potassium Chloride', ...</td>\n",
       "      <td>['KCLBASE', 'LABE100I', 'KCL20P', 'D5W250', 'N...</td>\n",
       "      <td>[41]</td>\n",
       "      <td>['431', '5070', '4280', '5849', '2765', '4019']</td>\n",
       "      <td>['M']</td>\n",
       "      <td>[1]</td>\n",
       "      <td>['UNKNOWN/NOT SPECIFIED']</td>\n",
       "      <td>['HEMORRHAGIC CVA']</td>\n",
       "      <td>[1]</td>\n",
       "      <td>['SW', 'Labetalol HCl', 'Potassium Chloride', ...</td>\n",
       "      <td>['KCLBASE', 'LABE100I', 'KCL20P', 'D5W250', 'N...</td>\n",
       "      <td>[41]</td>\n",
       "      <td>['431', '5070', '4280', '5849', '2765', '4019']</td>\n",
       "    </tr>\n",
       "  </tbody>\n",
       "</table>\n",
       "</div>"
      ],
      "text/plain": [
       "           GENDER_x EXPIRE_FLAG_x                ETHNICITY_x  \\\n",
       "SUBJECT_ID                                                     \n",
       "2             ['M']           [0]                  ['ASIAN']   \n",
       "4             ['F']           [0]                  ['WHITE']   \n",
       "6             ['F']           [0]                  ['WHITE']   \n",
       "8             ['M']           [0]                  ['WHITE']   \n",
       "9             ['M']           [1]  ['UNKNOWN/NOT SPECIFIED']   \n",
       "\n",
       "                                        DIAGNOSIS_x HAS_CHARTEVENTS_DATA_x  \\\n",
       "SUBJECT_ID                                                                   \n",
       "2                                       ['NEWBORN']                    [1]   \n",
       "4           ['FEVER,DEHYDRATION,FAILURE TO THRIVE']                    [1]   \n",
       "6                     ['CHRONIC RENAL FAILURE/SDA']                    [1]   \n",
       "8                                       ['NEWBORN']                    [1]   \n",
       "9                               ['HEMORRHAGIC CVA']                    [1]   \n",
       "\n",
       "                                                       DRUG_x  \\\n",
       "SUBJECT_ID                                                      \n",
       "2           ['NEO*IV*Gentamicin', 'Syringe (Neonatal) *D5W...   \n",
       "4           ['Iso-Osmotic Dextrose', 'Insulin', 'Benzonata...   \n",
       "6           ['Tacrolimus', 'Warfarin', 'Heparin Sodium', '...   \n",
       "8           ['Send 500mg Vial', 'NEO*IV*Gentamicin', 'NEO*...   \n",
       "9           ['SW', 'Labetalol HCl', 'Potassium Chloride', ...   \n",
       "\n",
       "                                          FORMULARY_DRUG_CD_x age_x  \\\n",
       "SUBJECT_ID                                                            \n",
       "2                ['GENT10I', 'NEOSYRD5W', 'AMP500I', 'AMPVL']   [0]   \n",
       "4           ['VANCOBASE', 'GLAR100I', 'BENZ100', 'INSULIN'...  [47]   \n",
       "6           ['TACR1', 'WARF5', 'HEPAPREMIX', 'HEPBASE', 'F...  [65]   \n",
       "8               ['AMPVL', 'GENT10I', 'NAMP500I', 'NEOSYRD5W']   [0]   \n",
       "9           ['KCLBASE', 'LABE100I', 'KCL20P', 'D5W250', 'N...  [41]   \n",
       "\n",
       "                                                  ICD9_CODE_x GENDER_y  \\\n",
       "SUBJECT_ID                                                               \n",
       "2                                   ['V3001', 'V053', 'V290']    ['M']   \n",
       "4           ['042', '1363', '7994', '2763', '7907', '5715'...    ['F']   \n",
       "6           ['40391', '4440', '9972', '2766', '2767', '285...    ['F']   \n",
       "8           ['V3001', '7706', '7746', 'V290', 'V502', 'V053']    ['M']   \n",
       "9             ['431', '5070', '4280', '5849', '2765', '4019']    ['M']   \n",
       "\n",
       "           EXPIRE_FLAG_y                ETHNICITY_y  \\\n",
       "SUBJECT_ID                                            \n",
       "2                    [0]                  ['ASIAN']   \n",
       "4                    [0]                  ['WHITE']   \n",
       "6                    [0]                  ['WHITE']   \n",
       "8                    [0]                  ['WHITE']   \n",
       "9                    [1]  ['UNKNOWN/NOT SPECIFIED']   \n",
       "\n",
       "                                        DIAGNOSIS_y HAS_CHARTEVENTS_DATA_y  \\\n",
       "SUBJECT_ID                                                                   \n",
       "2                                       ['NEWBORN']                    [1]   \n",
       "4           ['FEVER,DEHYDRATION,FAILURE TO THRIVE']                    [1]   \n",
       "6                     ['CHRONIC RENAL FAILURE/SDA']                    [1]   \n",
       "8                                       ['NEWBORN']                    [1]   \n",
       "9                               ['HEMORRHAGIC CVA']                    [1]   \n",
       "\n",
       "                                                       DRUG_y  \\\n",
       "SUBJECT_ID                                                      \n",
       "2           ['NEO*IV*Gentamicin', 'Syringe (Neonatal) *D5W...   \n",
       "4           ['Iso-Osmotic Dextrose', 'Insulin', 'Benzonata...   \n",
       "6           ['Tacrolimus', 'Warfarin', 'Heparin Sodium', '...   \n",
       "8           ['Send 500mg Vial', 'NEO*IV*Gentamicin', 'NEO*...   \n",
       "9           ['SW', 'Labetalol HCl', 'Potassium Chloride', ...   \n",
       "\n",
       "                                          FORMULARY_DRUG_CD_y age_y  \\\n",
       "SUBJECT_ID                                                            \n",
       "2                ['GENT10I', 'NEOSYRD5W', 'AMP500I', 'AMPVL']   [0]   \n",
       "4           ['VANCOBASE', 'GLAR100I', 'BENZ100', 'INSULIN'...  [47]   \n",
       "6           ['TACR1', 'WARF5', 'HEPAPREMIX', 'HEPBASE', 'F...  [65]   \n",
       "8               ['AMPVL', 'GENT10I', 'NAMP500I', 'NEOSYRD5W']   [0]   \n",
       "9           ['KCLBASE', 'LABE100I', 'KCL20P', 'D5W250', 'N...  [41]   \n",
       "\n",
       "                                                  ICD9_CODE_y  \n",
       "SUBJECT_ID                                                     \n",
       "2                                   ['V3001', 'V053', 'V290']  \n",
       "4           ['042', '1363', '7994', '2763', '7907', '5715'...  \n",
       "6           ['40391', '4440', '9972', '2766', '2767', '285...  \n",
       "8           ['V3001', '7706', '7746', 'V290', 'V502', 'V053']  \n",
       "9             ['431', '5070', '4280', '5849', '2765', '4019']  "
      ]
     },
     "execution_count": 7,
     "metadata": {},
     "output_type": "execute_result"
    }
   ],
   "source": [
    "train.head()"
   ]
  },
  {
   "cell_type": "markdown",
   "metadata": {},
   "source": [
    "## Drop columns and Standard Scaling"
   ]
  },
  {
   "cell_type": "code",
   "execution_count": null,
   "metadata": {},
   "outputs": [],
   "source": [
    "# Drop columns\n",
    "def dropper(column_name, train, test):\n",
    "    train = train.drop(column_name, axis=1)\n",
    "    test = test.drop(column_name, axis=1)\n",
    "    return train, test\n",
    "\n",
    "del_columns = ['TransactionDT']\n",
    "for col in del_columns:\n",
    "    train, test = dropper(col, train, test)\n",
    "\n",
    "def scaler(scl, column_name, data):\n",
    "    data[column_name] = scl.fit_transform(data[column_name].values.reshape(-1,1))\n",
    "    return data\n",
    "\n",
    "scl_columns = ['TransactionAmt', 'card1', 'card3', 'card5', 'addr1', 'addr2']\n",
    "for col in scl_columns:\n",
    "    train = scaler(StandardScaler(), col, train)\n",
    "    test = scaler(StandardScaler(), col, test)"
   ]
  },
  {
   "cell_type": "code",
   "execution_count": null,
   "metadata": {},
   "outputs": [],
   "source": [
    "train.head()"
   ]
  },
  {
   "cell_type": "code",
   "execution_count": null,
   "metadata": {},
   "outputs": [],
   "source": [
    "\"\"\"\n",
    "#TODO: Learning should be done by using non fraud data\n",
    "train = train[train['isFraud'] == 0]\n",
    "train_fraud = train[train['isFraud'] == 1].copy()\n",
    "\"\"\""
   ]
  },
  {
   "cell_type": "markdown",
   "metadata": {},
   "source": [
    "# AutoEncoder\n",
    "## Preprocessing"
   ]
  },
  {
   "cell_type": "code",
   "execution_count": 18,
   "metadata": {},
   "outputs": [],
   "source": [
    "y_train = train.copy()\n",
    "#del train_transaction, train_identity, test_transaction, test_identity\n",
    "\n",
    "# Drop target\n",
    "X_train = train\n",
    "#X_train_fraud = train_fraud.drop('isFraud', axis=1)\n",
    "X_test = test.copy()\n",
    "\n",
    "del train, test\n",
    "    \n",
    "# TODO: change methods\n",
    "# Fill in NaNs\n",
    "X_train = X_train.fillna(-999)\n",
    "#X_train_fraud = X_train_fraud.fillna(-999)\n",
    "X_test = X_test.fillna(-999)\n",
    "\n",
    "# TODO: change to Label Count Endocing\n",
    "# Label Encoding\n",
    "for f in X_train.columns:\n",
    "    if X_train[f].dtype=='object' or X_test[f].dtype=='object': \n",
    "        lbl = preprocessing.LabelEncoder()\n",
    "        lbl.fit(list(X_train[f].values) + list(X_test[f].values)) #+ list(X_train_fraud[f].values))\n",
    "        X_train[f] = lbl.transform(list(X_train[f].values))\n",
    "        #X_train_fraud[f] = lbl.transform(list(X_train_fraud[f].values)) \n",
    "        X_test[f] = lbl.transform(list(X_test[f].values)) \n",
    "        \n",
    "#gc.collect()"
   ]
  },
  {
   "cell_type": "code",
   "execution_count": 19,
   "metadata": {},
   "outputs": [
    {
     "name": "stdout",
     "output_type": "stream",
     "text": [
      "            GENDER_x  EXPIRE_FLAG_x  ETHNICITY_x  DIAGNOSIS_x  \\\n",
      "SUBJECT_ID                                                      \n",
      "2                  1              0           13        10561   \n",
      "4                  0              0          106         6641   \n",
      "6                  0              0          106         4142   \n",
      "8                  1              0          106        10561   \n",
      "9                  1              1           89         7386   \n",
      "\n",
      "            HAS_CHARTEVENTS_DATA_x  DRUG_x  FORMULARY_DRUG_CD_x  age_x  \\\n",
      "SUBJECT_ID                                                               \n",
      "2                                3   25030                11857      0   \n",
      "4                                3   17833                37050    405   \n",
      "6                                3   36558                36063    872   \n",
      "8                                3   33655                 2185      0   \n",
      "9                                3   33253                18378    277   \n",
      "\n",
      "            ICD9_CODE_x  GENDER_y  EXPIRE_FLAG_y  ETHNICITY_y  DIAGNOSIS_y  \\\n",
      "SUBJECT_ID                                                                   \n",
      "2                 37414         1              0           13        10561   \n",
      "4                  2404         0              0          106         6641   \n",
      "6                  8062         0              0          106         4142   \n",
      "8                 37138         1              0          106        10561   \n",
      "9                 17972         1              1           89         7386   \n",
      "\n",
      "            HAS_CHARTEVENTS_DATA_y  DRUG_y  FORMULARY_DRUG_CD_y  age_y  \\\n",
      "SUBJECT_ID                                                               \n",
      "2                                3   25030                11857      0   \n",
      "4                                3   17833                37050    405   \n",
      "6                                3   36558                36063    872   \n",
      "8                                3   33655                 2185      0   \n",
      "9                                3   33253                18378    277   \n",
      "\n",
      "            ICD9_CODE_y  \n",
      "SUBJECT_ID               \n",
      "2                 37414  \n",
      "4                  2404  \n",
      "6                  8062  \n",
      "8                 37138  \n",
      "9                 17972  \n",
      "            GENDER_x  EXPIRE_FLAG_x  ETHNICITY_x  DIAGNOSIS_x  \\\n",
      "SUBJECT_ID                                                      \n",
      "2                  1              0           13        10561   \n",
      "4                  0              0          106         6641   \n",
      "6                  0              0          106         4142   \n",
      "8                  1              0          106        10561   \n",
      "9                  1              1           89         7386   \n",
      "\n",
      "            HAS_CHARTEVENTS_DATA_x  DRUG_x  FORMULARY_DRUG_CD_x  age_x  \\\n",
      "SUBJECT_ID                                                               \n",
      "2                                3   25030                11857      0   \n",
      "4                                3   17833                37050    405   \n",
      "6                                3   36558                36063    872   \n",
      "8                                3   33655                 2185      0   \n",
      "9                                3   33253                18378    277   \n",
      "\n",
      "            ICD9_CODE_x  GENDER_y  EXPIRE_FLAG_y  ETHNICITY_y  DIAGNOSIS_y  \\\n",
      "SUBJECT_ID                                                                   \n",
      "2                 37414         1              0           13        10561   \n",
      "4                  2404         0              0          106         6641   \n",
      "6                  8062         0              0          106         4142   \n",
      "8                 37138         1              0          106        10561   \n",
      "9                 17972         1              1           89         7386   \n",
      "\n",
      "            HAS_CHARTEVENTS_DATA_y  DRUG_y  FORMULARY_DRUG_CD_y  age_y  \\\n",
      "SUBJECT_ID                                                               \n",
      "2                                3   25030                11857      0   \n",
      "4                                3   17833                37050    405   \n",
      "6                                3   36558                36063    872   \n",
      "8                                3   33655                 2185      0   \n",
      "9                                3   33253                18378    277   \n",
      "\n",
      "            ICD9_CODE_y  \n",
      "SUBJECT_ID               \n",
      "2                 37414  \n",
      "4                  2404  \n",
      "6                  8062  \n",
      "8                 37138  \n",
      "9                 17972  \n"
     ]
    }
   ],
   "source": [
    "print(X_train.head())\n",
    "#print(X_train_fraud.head())\n",
    "print(X_test.head())"
   ]
  },
  {
   "cell_type": "code",
   "execution_count": 20,
   "metadata": {},
   "outputs": [
    {
     "name": "stdout",
     "output_type": "stream",
     "text": [
      "31491 7872 31491 7872\n"
     ]
    }
   ],
   "source": [
    "\"\"\"\n",
    "    params:\n",
    "        data : data desired to be split\n",
    "        ratio : validation ratio for split\n",
    "        \n",
    "    output:\n",
    "        train_data, validation_data\n",
    "\"\"\"\n",
    "\n",
    "def splitter(data, ratio=0.2):\n",
    "    num = int(ratio*len(data))\n",
    "    return data[num:], data[:num]\n",
    "\n",
    "X_train, X_val = splitter(X_train)\n",
    "y_train, y_val = splitter(y_train)\n",
    "\n",
    "# Check number of data\n",
    "print(len(X_train), len(X_val), len(y_train), len(y_val))"
   ]
  },
  {
   "cell_type": "code",
   "execution_count": 21,
   "metadata": {},
   "outputs": [
    {
     "name": "stdout",
     "output_type": "stream",
     "text": [
      "31491 39363 7872\n"
     ]
    },
    {
     "data": {
      "text/plain": [
       "347"
      ]
     },
     "execution_count": 21,
     "metadata": {},
     "output_type": "execute_result"
    }
   ],
   "source": [
    "xtr = torch.FloatTensor(X_train.values)\n",
    "xts = torch.FloatTensor(X_test.values)\n",
    "# X_val: validation data for isFraud == 0\n",
    "xvl = torch.FloatTensor(X_val.values) \n",
    "# X_train_fraud: validation data for isFraud == 1\n",
    "#xvt = torch.FloatTensor(X_train_fraud.values)\n",
    "\n",
    "xdl = DataLoader(xtr,batch_size=1000)\n",
    "tdl = DataLoader(xts,batch_size=1000)\n",
    "vdl = DataLoader(xvl,batch_size=1000)\n",
    "#fdl = DataLoader(xvt,batch_size=1000)\n",
    "\n",
    "print(len(X_train.values), len(X_test.values), len(X_val.values)) #, len(X_train_fraud))\n",
    "gc.collect()"
   ]
  },
  {
   "cell_type": "code",
   "execution_count": 22,
   "metadata": {},
   "outputs": [],
   "source": [
    "class AutoEncoder(nn.Module):\n",
    "    def __init__(self, length):\n",
    "        super().__init__()\n",
    "        self.lin1 = nn.Linear(length,20)\n",
    "        self.lin2 = nn.Linear(20,10)\n",
    "        self.lin7 = nn.Linear(10,20)\n",
    "        self.lin8 = nn.Linear(20,length)\n",
    "        \n",
    "        self.drop2 = nn.Dropout(0.05)\n",
    "        \n",
    "        self.lin1.weight.data.uniform_(-2,2)\n",
    "        self.lin2.weight.data.uniform_(-2,2)\n",
    "        self.lin7.weight.data.uniform_(-2,2)\n",
    "        self.lin8.weight.data.uniform_(-2,2)\n",
    "\n",
    "    def forward(self, data):\n",
    "        x = F.tanh(self.lin1(data))\n",
    "        x = self.drop2(F.tanh(self.lin2(x)))\n",
    "        x = F.tanh(self.lin7(x))\n",
    "        x = self.lin8(x)\n",
    "        return x\n",
    "    \n",
    "def score(x):\n",
    "    y_pred = model(V(x))\n",
    "    x1 = V(x)\n",
    "    return loss(y_pred,x1).item()"
   ]
  },
  {
   "cell_type": "code",
   "execution_count": 23,
   "metadata": {},
   "outputs": [
    {
     "name": "stdout",
     "output_type": "stream",
     "text": [
      "AutoEncoder(\n",
      "  (lin1): Linear(in_features=18, out_features=20, bias=True)\n",
      "  (lin2): Linear(in_features=20, out_features=10, bias=True)\n",
      "  (lin7): Linear(in_features=10, out_features=20, bias=True)\n",
      "  (lin8): Linear(in_features=20, out_features=18, bias=True)\n",
      "  (drop2): Dropout(p=0.05, inplace=False)\n",
      ")\n"
     ]
    }
   ],
   "source": [
    "model = AutoEncoder(len(X_train.columns))\n",
    "loss=nn.MSELoss()\n",
    "learning_rate = 1e-2\n",
    "optimizer=torch.optim.Adam(model.parameters(), lr=learning_rate)\n",
    "print(model)\n",
    "\n",
    "# Utilize a named tuple to keep track of scores at each epoch\n",
    "model_hist = collections.namedtuple('Model','epoch loss val_loss')\n",
    "model_loss = model_hist(epoch = [], loss = [], val_loss = [])"
   ]
  },
  {
   "cell_type": "code",
   "execution_count": 24,
   "metadata": {},
   "outputs": [
    {
     "name": "stderr",
     "output_type": "stream",
     "text": [
      "/Users/nicenoize/opt/anaconda3/lib/python3.7/site-packages/ipykernel_launcher.py:4: TqdmDeprecationWarning: This function will be removed in tqdm==5.0.0\n",
      "Please use `tqdm.notebook.tqdm` instead of `tqdm.tqdm_notebook`\n",
      "  after removing the cwd from sys.path.\n"
     ]
    },
    {
     "data": {
      "application/vnd.jupyter.widget-view+json": {
       "model_id": "a13f8976c52b4ab482787803e1872934",
       "version_major": 2,
       "version_minor": 0
      },
      "text/plain": [
       "HBox(children=(FloatProgress(value=0.0, max=10.0), HTML(value='')))"
      ]
     },
     "metadata": {},
     "output_type": "display_data"
    },
    {
     "name": "stderr",
     "output_type": "stream",
     "text": [
      "/Users/nicenoize/opt/anaconda3/lib/python3.7/site-packages/torch/nn/functional.py:1614: UserWarning: nn.functional.tanh is deprecated. Use torch.tanh instead.\n",
      "  warnings.warn(\"nn.functional.tanh is deprecated. Use torch.tanh instead.\")\n"
     ]
    },
    {
     "name": "stdout",
     "output_type": "stream",
     "text": [
      "Epoch: 0   Loss: 160701792.0000    Val_Loss: 174227796.8000\n",
      "Epoch: 1   Loss: 160587984.0000    Val_Loss: 174107738.8000\n",
      "Epoch: 2   Loss: 160481344.0000    Val_Loss: 173996102.0000\n",
      "Epoch: 3   Loss: 160378896.0000    Val_Loss: 173888555.6000\n",
      "Epoch: 4   Loss: 160278240.0000    Val_Loss: 173783330.8000\n",
      "Epoch: 5   Loss: 160179360.0000    Val_Loss: 173679510.0000\n",
      "Epoch: 6   Loss: 160081120.0000    Val_Loss: 173576628.8000\n",
      "Epoch: 7   Loss: 159983680.0000    Val_Loss: 173474427.2000\n",
      "Epoch: 8   Loss: 159886688.0000    Val_Loss: 173372874.4000\n",
      "Epoch: 9   Loss: 159790320.0000    Val_Loss: 173271758.8000\n",
      "\n"
     ]
    }
   ],
   "source": [
    "def train(epochs, model, model_loss):\n",
    "    try: c = model_loss.epoch[-1]\n",
    "    except: c = 0\n",
    "    for epoch in tqdm_notebook(range(epochs),position=0, total = epochs):\n",
    "        losses=[]\n",
    "        dl = iter(xdl)\n",
    "        for t in range(len(dl)):\n",
    "            # Forward pass: compute predicted y and loss by passing x to the model.\n",
    "            xt = next(dl)\n",
    "            y_pred = model(V(xt))\n",
    "            \n",
    "            l = loss(y_pred,V(xt))\n",
    "            losses.append(l)\n",
    "            optimizer.zero_grad()\n",
    "\n",
    "            # Backward pass: compute gradient of the loss with respect to model parameters\n",
    "            l.backward()\n",
    "\n",
    "            # Calling the step function on an Optimizer makes an update to its parameters\n",
    "            optimizer.step()\n",
    "            \n",
    "        val_dl = iter(tdl)\n",
    "        val_scores = [score(next(val_dl)) for i in range(len(val_dl))]\n",
    "        \n",
    "        model_loss.epoch.append(c+epoch)\n",
    "        model_loss.loss.append(l.item())\n",
    "        model_loss.val_loss.append(np.mean(val_scores))\n",
    "        print(f'Epoch: {epoch}   Loss: {l.item():.4f}    Val_Loss: {np.mean(val_scores):.4f}')\n",
    "\n",
    "train(model=model, epochs=epochs, model_loss=model_loss)"
   ]
  },
  {
   "cell_type": "markdown",
   "metadata": {},
   "source": [
    "## Check Loss/Validation Loss"
   ]
  },
  {
   "cell_type": "code",
   "execution_count": 25,
   "metadata": {},
   "outputs": [
    {
     "name": "stdout",
     "output_type": "stream",
     "text": [
      "[160701792.0, 160587984.0, 160481344.0, 160378896.0, 160278240.0, 160179360.0, 160081120.0, 159983680.0, 159886688.0, 159790320.0]\n",
      "[174227796.8, 174107738.8, 173996102.0, 173888555.6, 173783330.8, 173679510.0, 173576628.8, 173474427.2, 173372874.4, 173271758.8]\n",
      "[0. 1. 2. 3. 4. 5. 6. 7. 8. 9.]\n"
     ]
    },
    {
     "data": {
      "image/png": "[encoded data removed]",
      "text/plain": [
       "<Figure size 432x288 with 1 Axes>"
      ]
     },
     "metadata": {
      "needs_background": "light"
     },
     "output_type": "display_data"
    },
    {
     "data": {
      "image/png": "[encoded data removed]",
      "text/plain": [
       "<Figure size 432x288 with 1 Axes>"
      ]
     },
     "metadata": {
      "needs_background": "light"
     },
     "output_type": "display_data"
    },
    {
     "data": {
      "text/plain": [
       "4866"
      ]
     },
     "execution_count": 25,
     "metadata": {},
     "output_type": "execute_result"
    }
   ],
   "source": [
    "x = np.linspace(0, epochs-1, epochs)\n",
    "print(model_loss.loss)\n",
    "print(model_loss.val_loss)\n",
    "print(x)\n",
    "plt.plot(x, model_loss.loss, label=\"loss\")\n",
    "plt.legend()\n",
    "plt.show()\n",
    "\n",
    "plt.plot(x, model_loss.val_loss, label=\"val_loss\")\n",
    "plt.legend()\n",
    "plt.show()\n",
    "\n",
    "gc.collect()"
   ]
  },
  {
   "cell_type": "markdown",
   "metadata": {},
   "source": [
    "## Validation"
   ]
  },
  {
   "cell_type": "code",
   "execution_count": 26,
   "metadata": {},
   "outputs": [
    {
     "name": "stderr",
     "output_type": "stream",
     "text": [
      "/Users/nicenoize/opt/anaconda3/lib/python3.7/site-packages/torch/nn/functional.py:1614: UserWarning: nn.functional.tanh is deprecated. Use torch.tanh instead.\n",
      "  warnings.warn(\"nn.functional.tanh is deprecated. Use torch.tanh instead.\")\n"
     ]
    },
    {
     "ename": "ValueError",
     "evalue": "Shape of passed values is (18, 2), indices imply (7872, 2)",
     "output_type": "error",
     "traceback": [
      "\u001b[0;31m---------------------------------------------------------------------------\u001b[0m",
      "\u001b[0;31mValueError\u001b[0m                                Traceback (most recent call last)",
      "\u001b[0;32m<ipython-input-26-578da2eeb92a>\u001b[0m in \u001b[0;36m<module>\u001b[0;34m\u001b[0m\n\u001b[1;32m     12\u001b[0m \u001b[0mpd\u001b[0m\u001b[0;34m.\u001b[0m\u001b[0mDataFrame\u001b[0m\u001b[0;34m(\u001b[0m\u001b[0merror_fraud\u001b[0m\u001b[0;34m)\u001b[0m\u001b[0;34m\u001b[0m\u001b[0;34m\u001b[0m\u001b[0m\n\u001b[1;32m     13\u001b[0m \"\"\"\n\u001b[0;32m---> 14\u001b[0;31m \u001b[0merror_df\u001b[0m \u001b[0;34m=\u001b[0m \u001b[0mpd\u001b[0m\u001b[0;34m.\u001b[0m\u001b[0mDataFrame\u001b[0m\u001b[0;34m(\u001b[0m\u001b[0mdata\u001b[0m \u001b[0;34m=\u001b[0m \u001b[0;34m{\u001b[0m\u001b[0;34m'error'\u001b[0m\u001b[0;34m:\u001b[0m\u001b[0merror_nonfraud\u001b[0m\u001b[0;34m,\u001b[0m\u001b[0;34m'true'\u001b[0m\u001b[0;34m:\u001b[0m\u001b[0my_val\u001b[0m\u001b[0;34m}\u001b[0m\u001b[0;34m)\u001b[0m\u001b[0;34m\u001b[0m\u001b[0;34m\u001b[0m\u001b[0m\n\u001b[0m\u001b[1;32m     15\u001b[0m \u001b[0;34m\u001b[0m\u001b[0m\n\u001b[1;32m     16\u001b[0m \u001b[0merror_df\u001b[0m\u001b[0;34m.\u001b[0m\u001b[0mgroupby\u001b[0m\u001b[0;34m(\u001b[0m\u001b[0;34m'true'\u001b[0m\u001b[0;34m)\u001b[0m\u001b[0;34m[\u001b[0m\u001b[0;34m'error'\u001b[0m\u001b[0;34m]\u001b[0m\u001b[0;34m.\u001b[0m\u001b[0mdescribe\u001b[0m\u001b[0;34m(\u001b[0m\u001b[0;34m)\u001b[0m\u001b[0;34m.\u001b[0m\u001b[0mreset_index\u001b[0m\u001b[0;34m(\u001b[0m\u001b[0;34m)\u001b[0m\u001b[0;34m\u001b[0m\u001b[0;34m\u001b[0m\u001b[0m\n",
      "\u001b[0;32m~/opt/anaconda3/lib/python3.7/site-packages/pandas/core/frame.py\u001b[0m in \u001b[0;36m__init__\u001b[0;34m(self, data, index, columns, dtype, copy)\u001b[0m\n\u001b[1;32m    433\u001b[0m             )\n\u001b[1;32m    434\u001b[0m         \u001b[0;32melif\u001b[0m \u001b[0misinstance\u001b[0m\u001b[0;34m(\u001b[0m\u001b[0mdata\u001b[0m\u001b[0;34m,\u001b[0m \u001b[0mdict\u001b[0m\u001b[0;34m)\u001b[0m\u001b[0;34m:\u001b[0m\u001b[0;34m\u001b[0m\u001b[0;34m\u001b[0m\u001b[0m\n\u001b[0;32m--> 435\u001b[0;31m             \u001b[0mmgr\u001b[0m \u001b[0;34m=\u001b[0m \u001b[0minit_dict\u001b[0m\u001b[0;34m(\u001b[0m\u001b[0mdata\u001b[0m\u001b[0;34m,\u001b[0m \u001b[0mindex\u001b[0m\u001b[0;34m,\u001b[0m \u001b[0mcolumns\u001b[0m\u001b[0;34m,\u001b[0m \u001b[0mdtype\u001b[0m\u001b[0;34m=\u001b[0m\u001b[0mdtype\u001b[0m\u001b[0;34m)\u001b[0m\u001b[0;34m\u001b[0m\u001b[0;34m\u001b[0m\u001b[0m\n\u001b[0m\u001b[1;32m    436\u001b[0m         \u001b[0;32melif\u001b[0m \u001b[0misinstance\u001b[0m\u001b[0;34m(\u001b[0m\u001b[0mdata\u001b[0m\u001b[0;34m,\u001b[0m \u001b[0mma\u001b[0m\u001b[0;34m.\u001b[0m\u001b[0mMaskedArray\u001b[0m\u001b[0;34m)\u001b[0m\u001b[0;34m:\u001b[0m\u001b[0;34m\u001b[0m\u001b[0;34m\u001b[0m\u001b[0m\n\u001b[1;32m    437\u001b[0m             \u001b[0;32mimport\u001b[0m \u001b[0mnumpy\u001b[0m\u001b[0;34m.\u001b[0m\u001b[0mma\u001b[0m\u001b[0;34m.\u001b[0m\u001b[0mmrecords\u001b[0m \u001b[0;32mas\u001b[0m \u001b[0mmrecords\u001b[0m\u001b[0;34m\u001b[0m\u001b[0;34m\u001b[0m\u001b[0m\n",
      "\u001b[0;32m~/opt/anaconda3/lib/python3.7/site-packages/pandas/core/internals/construction.py\u001b[0m in \u001b[0;36minit_dict\u001b[0;34m(data, index, columns, dtype)\u001b[0m\n\u001b[1;32m    252\u001b[0m             \u001b[0marr\u001b[0m \u001b[0;32mif\u001b[0m \u001b[0;32mnot\u001b[0m \u001b[0mis_datetime64tz_dtype\u001b[0m\u001b[0;34m(\u001b[0m\u001b[0marr\u001b[0m\u001b[0;34m)\u001b[0m \u001b[0;32melse\u001b[0m \u001b[0marr\u001b[0m\u001b[0;34m.\u001b[0m\u001b[0mcopy\u001b[0m\u001b[0;34m(\u001b[0m\u001b[0;34m)\u001b[0m \u001b[0;32mfor\u001b[0m \u001b[0marr\u001b[0m \u001b[0;32min\u001b[0m \u001b[0marrays\u001b[0m\u001b[0;34m\u001b[0m\u001b[0;34m\u001b[0m\u001b[0m\n\u001b[1;32m    253\u001b[0m         ]\n\u001b[0;32m--> 254\u001b[0;31m     \u001b[0;32mreturn\u001b[0m \u001b[0marrays_to_mgr\u001b[0m\u001b[0;34m(\u001b[0m\u001b[0marrays\u001b[0m\u001b[0;34m,\u001b[0m \u001b[0mdata_names\u001b[0m\u001b[0;34m,\u001b[0m \u001b[0mindex\u001b[0m\u001b[0;34m,\u001b[0m \u001b[0mcolumns\u001b[0m\u001b[0;34m,\u001b[0m \u001b[0mdtype\u001b[0m\u001b[0;34m=\u001b[0m\u001b[0mdtype\u001b[0m\u001b[0;34m)\u001b[0m\u001b[0;34m\u001b[0m\u001b[0;34m\u001b[0m\u001b[0m\n\u001b[0m\u001b[1;32m    255\u001b[0m \u001b[0;34m\u001b[0m\u001b[0m\n\u001b[1;32m    256\u001b[0m \u001b[0;34m\u001b[0m\u001b[0m\n",
      "\u001b[0;32m~/opt/anaconda3/lib/python3.7/site-packages/pandas/core/internals/construction.py\u001b[0m in \u001b[0;36marrays_to_mgr\u001b[0;34m(arrays, arr_names, index, columns, dtype)\u001b[0m\n\u001b[1;32m     72\u001b[0m     \u001b[0maxes\u001b[0m \u001b[0;34m=\u001b[0m \u001b[0;34m[\u001b[0m\u001b[0mensure_index\u001b[0m\u001b[0;34m(\u001b[0m\u001b[0mcolumns\u001b[0m\u001b[0;34m)\u001b[0m\u001b[0;34m,\u001b[0m \u001b[0mindex\u001b[0m\u001b[0;34m]\u001b[0m\u001b[0;34m\u001b[0m\u001b[0;34m\u001b[0m\u001b[0m\n\u001b[1;32m     73\u001b[0m \u001b[0;34m\u001b[0m\u001b[0m\n\u001b[0;32m---> 74\u001b[0;31m     \u001b[0;32mreturn\u001b[0m \u001b[0mcreate_block_manager_from_arrays\u001b[0m\u001b[0;34m(\u001b[0m\u001b[0marrays\u001b[0m\u001b[0;34m,\u001b[0m \u001b[0marr_names\u001b[0m\u001b[0;34m,\u001b[0m \u001b[0maxes\u001b[0m\u001b[0;34m)\u001b[0m\u001b[0;34m\u001b[0m\u001b[0;34m\u001b[0m\u001b[0m\n\u001b[0m\u001b[1;32m     75\u001b[0m \u001b[0;34m\u001b[0m\u001b[0m\n\u001b[1;32m     76\u001b[0m \u001b[0;34m\u001b[0m\u001b[0m\n",
      "\u001b[0;32m~/opt/anaconda3/lib/python3.7/site-packages/pandas/core/internals/managers.py\u001b[0m in \u001b[0;36mcreate_block_manager_from_arrays\u001b[0;34m(arrays, names, axes)\u001b[0m\n\u001b[1;32m   1673\u001b[0m         \u001b[0;32mreturn\u001b[0m \u001b[0mmgr\u001b[0m\u001b[0;34m\u001b[0m\u001b[0;34m\u001b[0m\u001b[0m\n\u001b[1;32m   1674\u001b[0m     \u001b[0;32mexcept\u001b[0m \u001b[0mValueError\u001b[0m \u001b[0;32mas\u001b[0m \u001b[0me\u001b[0m\u001b[0;34m:\u001b[0m\u001b[0;34m\u001b[0m\u001b[0;34m\u001b[0m\u001b[0m\n\u001b[0;32m-> 1675\u001b[0;31m         \u001b[0mconstruction_error\u001b[0m\u001b[0;34m(\u001b[0m\u001b[0mlen\u001b[0m\u001b[0;34m(\u001b[0m\u001b[0marrays\u001b[0m\u001b[0;34m)\u001b[0m\u001b[0;34m,\u001b[0m \u001b[0marrays\u001b[0m\u001b[0;34m[\u001b[0m\u001b[0;36m0\u001b[0m\u001b[0;34m]\u001b[0m\u001b[0;34m.\u001b[0m\u001b[0mshape\u001b[0m\u001b[0;34m,\u001b[0m \u001b[0maxes\u001b[0m\u001b[0;34m,\u001b[0m \u001b[0me\u001b[0m\u001b[0;34m)\u001b[0m\u001b[0;34m\u001b[0m\u001b[0;34m\u001b[0m\u001b[0m\n\u001b[0m\u001b[1;32m   1676\u001b[0m \u001b[0;34m\u001b[0m\u001b[0m\n\u001b[1;32m   1677\u001b[0m \u001b[0;34m\u001b[0m\u001b[0m\n",
      "\u001b[0;32m~/opt/anaconda3/lib/python3.7/site-packages/pandas/core/internals/managers.py\u001b[0m in \u001b[0;36mconstruction_error\u001b[0;34m(tot_items, block_shape, axes, e)\u001b[0m\n\u001b[1;32m   1689\u001b[0m \u001b[0;34m\u001b[0m\u001b[0m\n\u001b[1;32m   1690\u001b[0m     \u001b[0;32mif\u001b[0m \u001b[0mpassed\u001b[0m \u001b[0;34m==\u001b[0m \u001b[0mimplied\u001b[0m \u001b[0;32mand\u001b[0m \u001b[0me\u001b[0m \u001b[0;32mis\u001b[0m \u001b[0;32mnot\u001b[0m \u001b[0;32mNone\u001b[0m\u001b[0;34m:\u001b[0m\u001b[0;34m\u001b[0m\u001b[0;34m\u001b[0m\u001b[0m\n\u001b[0;32m-> 1691\u001b[0;31m         \u001b[0;32mraise\u001b[0m \u001b[0me\u001b[0m\u001b[0;34m\u001b[0m\u001b[0;34m\u001b[0m\u001b[0m\n\u001b[0m\u001b[1;32m   1692\u001b[0m     \u001b[0;32mif\u001b[0m \u001b[0mblock_shape\u001b[0m\u001b[0;34m[\u001b[0m\u001b[0;36m0\u001b[0m\u001b[0;34m]\u001b[0m \u001b[0;34m==\u001b[0m \u001b[0;36m0\u001b[0m\u001b[0;34m:\u001b[0m\u001b[0;34m\u001b[0m\u001b[0;34m\u001b[0m\u001b[0m\n\u001b[1;32m   1693\u001b[0m         \u001b[0;32mraise\u001b[0m \u001b[0mValueError\u001b[0m\u001b[0;34m(\u001b[0m\u001b[0;34m\"Empty data passed with indices specified.\"\u001b[0m\u001b[0;34m)\u001b[0m\u001b[0;34m\u001b[0m\u001b[0;34m\u001b[0m\u001b[0m\n",
      "\u001b[0;32m~/opt/anaconda3/lib/python3.7/site-packages/pandas/core/internals/managers.py\u001b[0m in \u001b[0;36mcreate_block_manager_from_arrays\u001b[0;34m(arrays, names, axes)\u001b[0m\n\u001b[1;32m   1669\u001b[0m     \u001b[0;32mtry\u001b[0m\u001b[0;34m:\u001b[0m\u001b[0;34m\u001b[0m\u001b[0;34m\u001b[0m\u001b[0m\n\u001b[1;32m   1670\u001b[0m         \u001b[0mblocks\u001b[0m \u001b[0;34m=\u001b[0m \u001b[0mform_blocks\u001b[0m\u001b[0;34m(\u001b[0m\u001b[0marrays\u001b[0m\u001b[0;34m,\u001b[0m \u001b[0mnames\u001b[0m\u001b[0;34m,\u001b[0m \u001b[0maxes\u001b[0m\u001b[0;34m)\u001b[0m\u001b[0;34m\u001b[0m\u001b[0;34m\u001b[0m\u001b[0m\n\u001b[0;32m-> 1671\u001b[0;31m         \u001b[0mmgr\u001b[0m \u001b[0;34m=\u001b[0m \u001b[0mBlockManager\u001b[0m\u001b[0;34m(\u001b[0m\u001b[0mblocks\u001b[0m\u001b[0;34m,\u001b[0m \u001b[0maxes\u001b[0m\u001b[0;34m)\u001b[0m\u001b[0;34m\u001b[0m\u001b[0;34m\u001b[0m\u001b[0m\n\u001b[0m\u001b[1;32m   1672\u001b[0m         \u001b[0mmgr\u001b[0m\u001b[0;34m.\u001b[0m\u001b[0m_consolidate_inplace\u001b[0m\u001b[0;34m(\u001b[0m\u001b[0;34m)\u001b[0m\u001b[0;34m\u001b[0m\u001b[0;34m\u001b[0m\u001b[0m\n\u001b[1;32m   1673\u001b[0m         \u001b[0;32mreturn\u001b[0m \u001b[0mmgr\u001b[0m\u001b[0;34m\u001b[0m\u001b[0;34m\u001b[0m\u001b[0m\n",
      "\u001b[0;32m~/opt/anaconda3/lib/python3.7/site-packages/pandas/core/internals/managers.py\u001b[0m in \u001b[0;36m__init__\u001b[0;34m(self, blocks, axes, do_integrity_check)\u001b[0m\n\u001b[1;32m    137\u001b[0m \u001b[0;34m\u001b[0m\u001b[0m\n\u001b[1;32m    138\u001b[0m         \u001b[0;32mif\u001b[0m \u001b[0mdo_integrity_check\u001b[0m\u001b[0;34m:\u001b[0m\u001b[0;34m\u001b[0m\u001b[0;34m\u001b[0m\u001b[0m\n\u001b[0;32m--> 139\u001b[0;31m             \u001b[0mself\u001b[0m\u001b[0;34m.\u001b[0m\u001b[0m_verify_integrity\u001b[0m\u001b[0;34m(\u001b[0m\u001b[0;34m)\u001b[0m\u001b[0;34m\u001b[0m\u001b[0;34m\u001b[0m\u001b[0m\n\u001b[0m\u001b[1;32m    140\u001b[0m \u001b[0;34m\u001b[0m\u001b[0m\n\u001b[1;32m    141\u001b[0m         \u001b[0mself\u001b[0m\u001b[0;34m.\u001b[0m\u001b[0m_consolidate_check\u001b[0m\u001b[0;34m(\u001b[0m\u001b[0;34m)\u001b[0m\u001b[0;34m\u001b[0m\u001b[0;34m\u001b[0m\u001b[0m\n",
      "\u001b[0;32m~/opt/anaconda3/lib/python3.7/site-packages/pandas/core/internals/managers.py\u001b[0m in \u001b[0;36m_verify_integrity\u001b[0;34m(self)\u001b[0m\n\u001b[1;32m    332\u001b[0m         \u001b[0;32mfor\u001b[0m \u001b[0mblock\u001b[0m \u001b[0;32min\u001b[0m \u001b[0mself\u001b[0m\u001b[0;34m.\u001b[0m\u001b[0mblocks\u001b[0m\u001b[0;34m:\u001b[0m\u001b[0;34m\u001b[0m\u001b[0;34m\u001b[0m\u001b[0m\n\u001b[1;32m    333\u001b[0m             \u001b[0;32mif\u001b[0m \u001b[0mblock\u001b[0m\u001b[0;34m.\u001b[0m\u001b[0m_verify_integrity\u001b[0m \u001b[0;32mand\u001b[0m \u001b[0mblock\u001b[0m\u001b[0;34m.\u001b[0m\u001b[0mshape\u001b[0m\u001b[0;34m[\u001b[0m\u001b[0;36m1\u001b[0m\u001b[0;34m:\u001b[0m\u001b[0;34m]\u001b[0m \u001b[0;34m!=\u001b[0m \u001b[0mmgr_shape\u001b[0m\u001b[0;34m[\u001b[0m\u001b[0;36m1\u001b[0m\u001b[0;34m:\u001b[0m\u001b[0;34m]\u001b[0m\u001b[0;34m:\u001b[0m\u001b[0;34m\u001b[0m\u001b[0;34m\u001b[0m\u001b[0m\n\u001b[0;32m--> 334\u001b[0;31m                 \u001b[0mconstruction_error\u001b[0m\u001b[0;34m(\u001b[0m\u001b[0mtot_items\u001b[0m\u001b[0;34m,\u001b[0m \u001b[0mblock\u001b[0m\u001b[0;34m.\u001b[0m\u001b[0mshape\u001b[0m\u001b[0;34m[\u001b[0m\u001b[0;36m1\u001b[0m\u001b[0;34m:\u001b[0m\u001b[0;34m]\u001b[0m\u001b[0;34m,\u001b[0m \u001b[0mself\u001b[0m\u001b[0;34m.\u001b[0m\u001b[0maxes\u001b[0m\u001b[0;34m)\u001b[0m\u001b[0;34m\u001b[0m\u001b[0;34m\u001b[0m\u001b[0m\n\u001b[0m\u001b[1;32m    335\u001b[0m         \u001b[0;32mif\u001b[0m \u001b[0mlen\u001b[0m\u001b[0;34m(\u001b[0m\u001b[0mself\u001b[0m\u001b[0;34m.\u001b[0m\u001b[0mitems\u001b[0m\u001b[0;34m)\u001b[0m \u001b[0;34m!=\u001b[0m \u001b[0mtot_items\u001b[0m\u001b[0;34m:\u001b[0m\u001b[0;34m\u001b[0m\u001b[0;34m\u001b[0m\u001b[0m\n\u001b[1;32m    336\u001b[0m             raise AssertionError(\n",
      "\u001b[0;32m~/opt/anaconda3/lib/python3.7/site-packages/pandas/core/internals/managers.py\u001b[0m in \u001b[0;36mconstruction_error\u001b[0;34m(tot_items, block_shape, axes, e)\u001b[0m\n\u001b[1;32m   1692\u001b[0m     \u001b[0;32mif\u001b[0m \u001b[0mblock_shape\u001b[0m\u001b[0;34m[\u001b[0m\u001b[0;36m0\u001b[0m\u001b[0;34m]\u001b[0m \u001b[0;34m==\u001b[0m \u001b[0;36m0\u001b[0m\u001b[0;34m:\u001b[0m\u001b[0;34m\u001b[0m\u001b[0;34m\u001b[0m\u001b[0m\n\u001b[1;32m   1693\u001b[0m         \u001b[0;32mraise\u001b[0m \u001b[0mValueError\u001b[0m\u001b[0;34m(\u001b[0m\u001b[0;34m\"Empty data passed with indices specified.\"\u001b[0m\u001b[0;34m)\u001b[0m\u001b[0;34m\u001b[0m\u001b[0;34m\u001b[0m\u001b[0m\n\u001b[0;32m-> 1694\u001b[0;31m     \u001b[0;32mraise\u001b[0m \u001b[0mValueError\u001b[0m\u001b[0;34m(\u001b[0m\u001b[0;34mf\"Shape of passed values is {passed}, indices imply {implied}\"\u001b[0m\u001b[0;34m)\u001b[0m\u001b[0;34m\u001b[0m\u001b[0;34m\u001b[0m\u001b[0m\n\u001b[0m\u001b[1;32m   1695\u001b[0m \u001b[0;34m\u001b[0m\u001b[0m\n\u001b[1;32m   1696\u001b[0m \u001b[0;34m\u001b[0m\u001b[0m\n",
      "\u001b[0;31mValueError\u001b[0m: Shape of passed values is (18, 2), indices imply (7872, 2)"
     ]
    }
   ],
   "source": [
    "# Iterate through the dataloader and get predictions for each batch of the test set.\n",
    "p = iter(vdl)\n",
    "preds = np.vstack([model(V(next(p))).cpu().data.numpy() for i in range(len(p))])\n",
    "\n",
    "# Create a pandas DF that shows the Autoencoder MSE vs True Labels\n",
    "error_nonfraud = np.mean(np.power((X_val-preds),2), axis=1)\n",
    "\"\"\"\n",
    "p = iter(fdl)\n",
    "preds = np.vstack([model(V(next(p))).cpu().data.numpy() for i in range(len(p))])\n",
    "error_fraud = np.mean(np.power((X_train_fraud-preds),2), axis=1)\n",
    "\n",
    "pd.DataFrame(error_fraud)\n",
    "\"\"\"\n",
    "error_df = pd.DataFrame(data = {'error':error_nonfraud,'true':y_val})\n",
    "\n",
    "error_df.groupby('true')['error'].describe().reset_index()"
   ]
  },
  {
   "cell_type": "markdown",
   "metadata": {},
   "source": [
    "### ROC_AUC"
   ]
  },
  {
   "cell_type": "code",
   "execution_count": 27,
   "metadata": {},
   "outputs": [
    {
     "ename": "NameError",
     "evalue": "name 'error_df' is not defined",
     "output_type": "error",
     "traceback": [
      "\u001b[0;31m---------------------------------------------------------------------------\u001b[0m",
      "\u001b[0;31mNameError\u001b[0m                                 Traceback (most recent call last)",
      "\u001b[0;32m<ipython-input-27-b3b331ba1fda>\u001b[0m in \u001b[0;36m<module>\u001b[0;34m\u001b[0m\n\u001b[0;32m----> 1\u001b[0;31m \u001b[0mfpr\u001b[0m\u001b[0;34m,\u001b[0m \u001b[0mtpr\u001b[0m\u001b[0;34m,\u001b[0m \u001b[0mthresholds\u001b[0m \u001b[0;34m=\u001b[0m \u001b[0mroc_curve\u001b[0m\u001b[0;34m(\u001b[0m\u001b[0merror_df\u001b[0m\u001b[0;34m.\u001b[0m\u001b[0mtrue\u001b[0m\u001b[0;34m,\u001b[0m \u001b[0merror_df\u001b[0m\u001b[0;34m.\u001b[0m\u001b[0merror\u001b[0m\u001b[0;34m)\u001b[0m\u001b[0;34m\u001b[0m\u001b[0;34m\u001b[0m\u001b[0m\n\u001b[0m\u001b[1;32m      2\u001b[0m \u001b[0mroc_auc\u001b[0m \u001b[0;34m=\u001b[0m \u001b[0mauc\u001b[0m\u001b[0;34m(\u001b[0m\u001b[0mfpr\u001b[0m\u001b[0;34m,\u001b[0m \u001b[0mtpr\u001b[0m\u001b[0;34m)\u001b[0m\u001b[0;34m\u001b[0m\u001b[0;34m\u001b[0m\u001b[0m\n\u001b[1;32m      3\u001b[0m \u001b[0;34m\u001b[0m\u001b[0m\n\u001b[1;32m      4\u001b[0m \u001b[0mplt\u001b[0m\u001b[0;34m.\u001b[0m\u001b[0mplot\u001b[0m\u001b[0;34m(\u001b[0m\u001b[0mfpr\u001b[0m\u001b[0;34m,\u001b[0m \u001b[0mtpr\u001b[0m\u001b[0;34m,\u001b[0m \u001b[0mlabel\u001b[0m\u001b[0;34m=\u001b[0m\u001b[0;34m'ROC curve (area = {})'\u001b[0m\u001b[0;34m.\u001b[0m\u001b[0mformat\u001b[0m\u001b[0;34m(\u001b[0m\u001b[0mroc_auc\u001b[0m\u001b[0;34m)\u001b[0m\u001b[0;34m)\u001b[0m\u001b[0;34m\u001b[0m\u001b[0;34m\u001b[0m\u001b[0m\n\u001b[1;32m      5\u001b[0m \u001b[0mplt\u001b[0m\u001b[0;34m.\u001b[0m\u001b[0mlegend\u001b[0m\u001b[0;34m(\u001b[0m\u001b[0;34m)\u001b[0m\u001b[0;34m\u001b[0m\u001b[0;34m\u001b[0m\u001b[0m\n",
      "\u001b[0;31mNameError\u001b[0m: name 'error_df' is not defined"
     ]
    }
   ],
   "source": [
    "fpr, tpr, thresholds = roc_curve(error_df.true, error_df.error)\n",
    "roc_auc = auc(fpr, tpr)\n",
    "\n",
    "plt.plot(fpr, tpr, label='ROC curve (area = {})'.format(roc_auc))\n",
    "plt.legend()\n",
    "plt.title('ROC curve')\n",
    "plt.xlabel('False Positive Rate')\n",
    "plt.ylabel('True Positive Rate')\n",
    "plt.grid(True)"
   ]
  },
  {
   "cell_type": "code",
   "execution_count": 28,
   "metadata": {},
   "outputs": [
    {
     "ename": "NameError",
     "evalue": "name 'error_df' is not defined",
     "output_type": "error",
     "traceback": [
      "\u001b[0;31m---------------------------------------------------------------------------\u001b[0m",
      "\u001b[0;31mNameError\u001b[0m                                 Traceback (most recent call last)",
      "\u001b[0;32m<ipython-input-28-4f4b512e733e>\u001b[0m in \u001b[0;36m<module>\u001b[0;34m\u001b[0m\n\u001b[0;32m----> 1\u001b[0;31m \u001b[0mtemp_df\u001b[0m \u001b[0;34m=\u001b[0m \u001b[0merror_df\u001b[0m\u001b[0;34m[\u001b[0m\u001b[0merror_df\u001b[0m\u001b[0;34m[\u001b[0m\u001b[0;34m'true'\u001b[0m\u001b[0;34m]\u001b[0m \u001b[0;34m==\u001b[0m \u001b[0;36m0\u001b[0m\u001b[0;34m]\u001b[0m\u001b[0;34m\u001b[0m\u001b[0;34m\u001b[0m\u001b[0m\n\u001b[0m\u001b[1;32m      2\u001b[0m \u001b[0mthreshold\u001b[0m \u001b[0;34m=\u001b[0m \u001b[0mtemp_df\u001b[0m\u001b[0;34m[\u001b[0m\u001b[0;34m'error'\u001b[0m\u001b[0;34m]\u001b[0m\u001b[0;34m.\u001b[0m\u001b[0mmean\u001b[0m\u001b[0;34m(\u001b[0m\u001b[0;34m)\u001b[0m \u001b[0;34m+\u001b[0m \u001b[0mtemp_df\u001b[0m\u001b[0;34m[\u001b[0m\u001b[0;34m'error'\u001b[0m\u001b[0;34m]\u001b[0m\u001b[0;34m.\u001b[0m\u001b[0mstd\u001b[0m\u001b[0;34m(\u001b[0m\u001b[0;34m)\u001b[0m\u001b[0;34m\u001b[0m\u001b[0;34m\u001b[0m\u001b[0m\n\u001b[1;32m      3\u001b[0m \u001b[0mprint\u001b[0m\u001b[0;34m(\u001b[0m\u001b[0;34mf'Threshold: {threshold:.3f}'\u001b[0m\u001b[0;34m)\u001b[0m\u001b[0;34m\u001b[0m\u001b[0;34m\u001b[0m\u001b[0m\n",
      "\u001b[0;31mNameError\u001b[0m: name 'error_df' is not defined"
     ]
    }
   ],
   "source": [
    "temp_df = error_df[error_df['true'] == 0]\n",
    "threshold = temp_df['error'].mean() + temp_df['error'].std()\n",
    "print(f'Threshold: {threshold:.3f}')"
   ]
  },
  {
   "cell_type": "markdown",
   "metadata": {},
   "source": [
    "### Precision Recall F1-Score"
   ]
  },
  {
   "cell_type": "code",
   "execution_count": 29,
   "metadata": {},
   "outputs": [
    {
     "ename": "NameError",
     "evalue": "name 'error_df' is not defined",
     "output_type": "error",
     "traceback": [
      "\u001b[0;31m---------------------------------------------------------------------------\u001b[0m",
      "\u001b[0;31mNameError\u001b[0m                                 Traceback (most recent call last)",
      "\u001b[0;32m<ipython-input-29-1357b57c7172>\u001b[0m in \u001b[0;36m<module>\u001b[0;34m\u001b[0m\n\u001b[0;32m----> 1\u001b[0;31m \u001b[0my_pred\u001b[0m \u001b[0;34m=\u001b[0m \u001b[0;34m[\u001b[0m\u001b[0;36m1\u001b[0m \u001b[0;32mif\u001b[0m \u001b[0me\u001b[0m \u001b[0;34m>\u001b[0m \u001b[0mthreshold\u001b[0m \u001b[0;32melse\u001b[0m \u001b[0;36m0\u001b[0m \u001b[0;32mfor\u001b[0m \u001b[0me\u001b[0m \u001b[0;32min\u001b[0m \u001b[0merror_df\u001b[0m\u001b[0;34m.\u001b[0m\u001b[0merror\u001b[0m\u001b[0;34m.\u001b[0m\u001b[0mvalues\u001b[0m\u001b[0;34m]\u001b[0m\u001b[0;34m\u001b[0m\u001b[0;34m\u001b[0m\u001b[0m\n\u001b[0m\u001b[1;32m      2\u001b[0m \u001b[0mprint\u001b[0m\u001b[0;34m(\u001b[0m\u001b[0mclassification_report\u001b[0m\u001b[0;34m(\u001b[0m\u001b[0merror_df\u001b[0m\u001b[0;34m.\u001b[0m\u001b[0mtrue\u001b[0m\u001b[0;34m.\u001b[0m\u001b[0mvalues\u001b[0m\u001b[0;34m,\u001b[0m\u001b[0my_pred\u001b[0m\u001b[0;34m)\u001b[0m\u001b[0;34m)\u001b[0m\u001b[0;34m\u001b[0m\u001b[0;34m\u001b[0m\u001b[0m\n",
      "\u001b[0;31mNameError\u001b[0m: name 'error_df' is not defined"
     ]
    }
   ],
   "source": [
    "y_pred = [1 if e > threshold else 0 for e in error_df.error.values]\n",
    "print(classification_report(error_df.true.values,y_pred))"
   ]
  },
  {
   "cell_type": "markdown",
   "metadata": {},
   "source": [
    "### Plot Precision Recall"
   ]
  },
  {
   "cell_type": "code",
   "execution_count": 30,
   "metadata": {},
   "outputs": [
    {
     "ename": "NameError",
     "evalue": "name 'error_df' is not defined",
     "output_type": "error",
     "traceback": [
      "\u001b[0;31m---------------------------------------------------------------------------\u001b[0m",
      "\u001b[0;31mNameError\u001b[0m                                 Traceback (most recent call last)",
      "\u001b[0;32m<ipython-input-30-ec633c505012>\u001b[0m in \u001b[0;36m<module>\u001b[0;34m\u001b[0m\n\u001b[0;32m----> 1\u001b[0;31m \u001b[0mconf_matrix\u001b[0m \u001b[0;34m=\u001b[0m \u001b[0mconfusion_matrix\u001b[0m\u001b[0;34m(\u001b[0m\u001b[0merror_df\u001b[0m\u001b[0;34m.\u001b[0m\u001b[0mtrue\u001b[0m\u001b[0;34m,\u001b[0m \u001b[0my_pred\u001b[0m\u001b[0;34m)\u001b[0m\u001b[0;34m\u001b[0m\u001b[0;34m\u001b[0m\u001b[0m\n\u001b[0m\u001b[1;32m      2\u001b[0m \u001b[0;34m\u001b[0m\u001b[0m\n\u001b[1;32m      3\u001b[0m \u001b[0msns\u001b[0m\u001b[0;34m.\u001b[0m\u001b[0mset\u001b[0m\u001b[0;34m(\u001b[0m\u001b[0mfont_scale\u001b[0m \u001b[0;34m=\u001b[0m \u001b[0;36m1.2\u001b[0m\u001b[0;34m)\u001b[0m\u001b[0;34m\u001b[0m\u001b[0;34m\u001b[0m\u001b[0m\n\u001b[1;32m      4\u001b[0m \u001b[0mplt\u001b[0m\u001b[0;34m.\u001b[0m\u001b[0mfigure\u001b[0m\u001b[0;34m(\u001b[0m\u001b[0mfigsize\u001b[0m\u001b[0;34m=\u001b[0m\u001b[0;34m(\u001b[0m\u001b[0;36m10\u001b[0m\u001b[0;34m,\u001b[0m \u001b[0;36m10\u001b[0m\u001b[0;34m)\u001b[0m\u001b[0;34m)\u001b[0m\u001b[0;34m\u001b[0m\u001b[0;34m\u001b[0m\u001b[0m\n\u001b[1;32m      5\u001b[0m \u001b[0msns\u001b[0m\u001b[0;34m.\u001b[0m\u001b[0mheatmap\u001b[0m\u001b[0;34m(\u001b[0m\u001b[0mconf_matrix\u001b[0m\u001b[0;34m,\u001b[0m \u001b[0mxticklabels\u001b[0m\u001b[0;34m=\u001b[0m\u001b[0;34m[\u001b[0m\u001b[0;34m'Not Fraud'\u001b[0m\u001b[0;34m,\u001b[0m\u001b[0;34m'Fraud'\u001b[0m\u001b[0;34m]\u001b[0m\u001b[0;34m,\u001b[0m \u001b[0myticklabels\u001b[0m\u001b[0;34m=\u001b[0m\u001b[0;34m[\u001b[0m\u001b[0;34m'Not Fraud'\u001b[0m\u001b[0;34m,\u001b[0m\u001b[0;34m'Fraud'\u001b[0m\u001b[0;34m]\u001b[0m\u001b[0;34m,\u001b[0m \u001b[0mannot\u001b[0m\u001b[0;34m=\u001b[0m\u001b[0;32mTrue\u001b[0m\u001b[0;34m,\u001b[0m \u001b[0mfmt\u001b[0m\u001b[0;34m=\u001b[0m\u001b[0;34m\"d\"\u001b[0m\u001b[0;34m)\u001b[0m\u001b[0;34m;\u001b[0m\u001b[0;34m\u001b[0m\u001b[0;34m\u001b[0m\u001b[0m\n",
      "\u001b[0;31mNameError\u001b[0m: name 'error_df' is not defined"
     ]
    }
   ],
   "source": [
    "conf_matrix = confusion_matrix(error_df.true, y_pred)\n",
    "\n",
    "sns.set(font_scale = 1.2)\n",
    "plt.figure(figsize=(10, 10))\n",
    "sns.heatmap(conf_matrix, xticklabels=['Not Fraud','Fraud'], yticklabels=['Not Fraud','Fraud'], annot=True, fmt=\"d\");\n",
    "plt.title(\"Confusion matrix\")\n",
    "plt.ylabel('True class')\n",
    "plt.xlabel('Predicted class')\n",
    "plt.show()"
   ]
  },
  {
   "cell_type": "markdown",
   "metadata": {},
   "source": [
    "### Plot Precision Recall for each thresholds\n",
    "Changing the threshold from threshold_min to threshold_max."
   ]
  },
  {
   "cell_type": "code",
   "execution_count": 31,
   "metadata": {},
   "outputs": [
    {
     "ename": "NameError",
     "evalue": "name 'threshold' is not defined",
     "output_type": "error",
     "traceback": [
      "\u001b[0;31m---------------------------------------------------------------------------\u001b[0m",
      "\u001b[0;31mNameError\u001b[0m                                 Traceback (most recent call last)",
      "\u001b[0;32m<ipython-input-31-20bbca11c9e3>\u001b[0m in \u001b[0;36m<module>\u001b[0;34m\u001b[0m\n\u001b[1;32m      1\u001b[0m \u001b[0mplt\u001b[0m\u001b[0;34m.\u001b[0m\u001b[0mfigure\u001b[0m\u001b[0;34m(\u001b[0m\u001b[0mfigsize\u001b[0m\u001b[0;34m=\u001b[0m\u001b[0;34m(\u001b[0m\u001b[0;36m12\u001b[0m\u001b[0;34m,\u001b[0m \u001b[0;36m12\u001b[0m\u001b[0;34m)\u001b[0m\u001b[0;34m)\u001b[0m\u001b[0;34m\u001b[0m\u001b[0;34m\u001b[0m\u001b[0m\n\u001b[1;32m      2\u001b[0m \u001b[0mm\u001b[0m \u001b[0;34m=\u001b[0m \u001b[0;34m[\u001b[0m\u001b[0;34m]\u001b[0m\u001b[0;34m\u001b[0m\u001b[0;34m\u001b[0m\u001b[0m\n\u001b[0;32m----> 3\u001b[0;31m \u001b[0mthreshold_min\u001b[0m \u001b[0;34m=\u001b[0m \u001b[0mthreshold\u001b[0m \u001b[0;34m*\u001b[0m \u001b[0;36m0.99\u001b[0m\u001b[0;34m\u001b[0m\u001b[0;34m\u001b[0m\u001b[0m\n\u001b[0m\u001b[1;32m      4\u001b[0m \u001b[0mthreshold_max\u001b[0m \u001b[0;34m=\u001b[0m \u001b[0mthreshold\u001b[0m \u001b[0;34m*\u001b[0m \u001b[0;36m1.01\u001b[0m\u001b[0;34m\u001b[0m\u001b[0;34m\u001b[0m\u001b[0m\n\u001b[1;32m      5\u001b[0m \u001b[0;34m\u001b[0m\u001b[0m\n",
      "\u001b[0;31mNameError\u001b[0m: name 'threshold' is not defined"
     ]
    },
    {
     "data": {
      "text/plain": [
       "<Figure size 864x864 with 0 Axes>"
      ]
     },
     "metadata": {},
     "output_type": "display_data"
    }
   ],
   "source": [
    "plt.figure(figsize=(12, 12))\n",
    "m = []\n",
    "threshold_min = threshold * 0.99\n",
    "threshold_max = threshold * 1.01\n",
    "\n",
    "for thresh in np.linspace(threshold_min, threshold_max):\n",
    "    y_pred = [1 if e > thresh else 0 for e in error_df.error.values]\n",
    "    conf_matrix = confusion_matrix(error_df.true, y_pred)\n",
    "    m.append((conf_matrix,thresh))\n",
    "    \n",
    "count = 0\n",
    "for i in range(3):\n",
    "    for j in range(3):\n",
    "        plt.subplot2grid((3, 3), (i, j))\n",
    "        sns.heatmap(m[count][0], xticklabels=['Not Fraud','Fraud'], yticklabels=['Not Fraud','Fraud'], annot=True, fmt=\"d\");\n",
    "        plt.title(f\"Threshold - {m[count][1]:.3f}\")\n",
    "        plt.ylabel('True class')\n",
    "        plt.xlabel('Predicted class')\n",
    "        plt.tight_layout()\n",
    "        count += 1\n",
    "plt.show()"
   ]
  },
  {
   "cell_type": "code",
   "execution_count": 32,
   "metadata": {},
   "outputs": [],
   "source": [
    "# Iterate through the dataloader and get predictions for each batch of the test set.\n",
    "p = iter(tdl)\n",
    "preds = np.vstack([model(V(next(p))).cpu().data.numpy() for i in range(len(p))])\n",
    "\n",
    "# Create a pandas DF that shows the Autoencoder MSE vs True Labels\n",
    "error = np.mean(np.power((X_test-preds),2), axis=1)"
   ]
  },
  {
   "cell_type": "code",
   "execution_count": 33,
   "metadata": {},
   "outputs": [
    {
     "name": "stdout",
     "output_type": "stream",
     "text": [
      "Num data: 39363\n"
     ]
    },
    {
     "ename": "NameError",
     "evalue": "name 'threshold' is not defined",
     "output_type": "error",
     "traceback": [
      "\u001b[0;31m---------------------------------------------------------------------------\u001b[0m",
      "\u001b[0;31mNameError\u001b[0m                                 Traceback (most recent call last)",
      "\u001b[0;32m<ipython-input-33-4ca71a799202>\u001b[0m in \u001b[0;36m<module>\u001b[0;34m\u001b[0m\n\u001b[1;32m     10\u001b[0m \u001b[0;34m\u001b[0m\u001b[0m\n\u001b[1;32m     11\u001b[0m \u001b[0mprint\u001b[0m\u001b[0;34m(\u001b[0m\u001b[0;34m\"Num data: \"\u001b[0m \u001b[0;34m+\u001b[0m \u001b[0mstr\u001b[0m\u001b[0;34m(\u001b[0m\u001b[0mlen\u001b[0m\u001b[0;34m(\u001b[0m\u001b[0merror_df\u001b[0m\u001b[0;34m)\u001b[0m\u001b[0;34m)\u001b[0m\u001b[0;34m)\u001b[0m\u001b[0;34m\u001b[0m\u001b[0;34m\u001b[0m\u001b[0m\n\u001b[0;32m---> 12\u001b[0;31m \u001b[0mprint\u001b[0m\u001b[0;34m(\u001b[0m\u001b[0;34m\"Beyond threshold num data: \"\u001b[0m \u001b[0;34m+\u001b[0m \u001b[0mstr\u001b[0m\u001b[0;34m(\u001b[0m\u001b[0mlen\u001b[0m\u001b[0;34m(\u001b[0m\u001b[0merror_df\u001b[0m\u001b[0;34m[\u001b[0m\u001b[0merror_df\u001b[0m\u001b[0;34m[\u001b[0m\u001b[0;34m'isFraud'\u001b[0m\u001b[0;34m]\u001b[0m \u001b[0;34m>\u001b[0m \u001b[0mthreshold\u001b[0m\u001b[0;34m]\u001b[0m\u001b[0;34m)\u001b[0m\u001b[0;34m)\u001b[0m\u001b[0;34m)\u001b[0m\u001b[0;34m\u001b[0m\u001b[0;34m\u001b[0m\u001b[0m\n\u001b[0m\u001b[1;32m     13\u001b[0m \u001b[0;31m#error_df[error_df['isFraud'] > threshold]\u001b[0m\u001b[0;34m\u001b[0m\u001b[0;34m\u001b[0m\u001b[0;34m\u001b[0m\u001b[0m\n\u001b[1;32m     14\u001b[0m \u001b[0;34m\u001b[0m\u001b[0m\n",
      "\u001b[0;31mNameError\u001b[0m: name 'threshold' is not defined"
     ]
    }
   ],
   "source": [
    "def min_max_normalization(x):\n",
    "    x_min = x.min()\n",
    "    x_max = x.max()\n",
    "    x_norm = (x-x_min) / (x_max-x_min)\n",
    "    return x_norm\n",
    "\n",
    "# min max normalization\n",
    "#error_df = pd.DataFrame(data={'isFraud':min_max_normalization(error)})\n",
    "error_df = pd.DataFrame(data={'isFraud':error})\n",
    "\n",
    "print(\"Num data: \" + str(len(error_df)))\n",
    "print(\"Beyond threshold num data: \" + str(len(error_df[error_df['isFraud'] > threshold])))\n",
    "#error_df[error_df['isFraud'] > threshold]\n",
    "\n",
    "x_min = 3600000\n",
    "x_max = 4200000\n",
    "plt.hlines(threshold, x_min, x_max, \"black\")\n",
    "plt.plot(error_df, alpha=0.3)\n",
    "plt.show()"
   ]
  },
  {
   "cell_type": "code",
   "execution_count": 34,
   "metadata": {},
   "outputs": [
    {
     "data": {
      "text/html": [
       "<div>\n",
       "<style scoped>\n",
       "    .dataframe tbody tr th:only-of-type {\n",
       "        vertical-align: middle;\n",
       "    }\n",
       "\n",
       "    .dataframe tbody tr th {\n",
       "        vertical-align: top;\n",
       "    }\n",
       "\n",
       "    .dataframe thead th {\n",
       "        text-align: right;\n",
       "    }\n",
       "</style>\n",
       "<table border=\"1\" class=\"dataframe\">\n",
       "  <thead>\n",
       "    <tr style=\"text-align: right;\">\n",
       "      <th></th>\n",
       "      <th>isFraud</th>\n",
       "    </tr>\n",
       "    <tr>\n",
       "      <th>SUBJECT_ID</th>\n",
       "      <th></th>\n",
       "    </tr>\n",
       "  </thead>\n",
       "  <tbody>\n",
       "    <tr>\n",
       "      <th>2</th>\n",
       "      <td>0.499895</td>\n",
       "    </tr>\n",
       "    <tr>\n",
       "      <th>4</th>\n",
       "      <td>0.381670</td>\n",
       "    </tr>\n",
       "    <tr>\n",
       "      <th>6</th>\n",
       "      <td>0.597499</td>\n",
       "    </tr>\n",
       "    <tr>\n",
       "      <th>8</th>\n",
       "      <td>0.577284</td>\n",
       "    </tr>\n",
       "    <tr>\n",
       "      <th>9</th>\n",
       "      <td>0.399021</td>\n",
       "    </tr>\n",
       "  </tbody>\n",
       "</table>\n",
       "</div>"
      ],
      "text/plain": [
       "             isFraud\n",
       "SUBJECT_ID          \n",
       "2           0.499895\n",
       "4           0.381670\n",
       "6           0.597499\n",
       "8           0.577284\n",
       "9           0.399021"
      ]
     },
     "execution_count": 34,
     "metadata": {},
     "output_type": "execute_result"
    }
   ],
   "source": [
    "error_df = pd.DataFrame(data={'isFraud':min_max_normalization(error)})\n",
    "error_df.head()"
   ]
  },
  {
   "cell_type": "code",
   "execution_count": 35,
   "metadata": {},
   "outputs": [],
   "source": [
    "sample_submission['isFraud'] = error_df\n",
    "sample_submission.to_csv('simple_autoencoder.csv')"
   ]
  },
  {
   "cell_type": "markdown",
   "metadata": {},
   "source": [
    "# To be continued\n",
    "\n",
    "# Feature Engineering\n",
    "## Day/Hour features from TransactionDT"
   ]
  },
  {
   "cell_type": "code",
   "execution_count": 36,
   "metadata": {},
   "outputs": [
    {
     "data": {
      "text/plain": [
       "\"\\ndef make_day_feature(df, offset=0, tname='TransactionDT'):\\n    # found a good offset is 0.58\\n    days = df[tname] / (3600*24)        \\n    encoded_days = np.floor(days-1+offset) % 7\\n    return encoded_days\\n\\ndef make_hour_feature(df, tname='TransactionDT'):\\n    hours = df[tname] / (3600)        \\n    encoded_hours = np.floor(hours) % 24\\n    return encoded_hours\\n\\n# check train\\nprint(make_day_feature(train, offset=0.58).value_counts().head(10))\\nprint(make_hour_feature(train).value_counts().head(10))\\n\\ntrain['TransactionDay'] = make_day_feature(train, offset=0.58)\\ntrain['TransactionHour'] = make_hour_feature(train)\\ntest['TransactionDay'] = make_day_feature(test, offset=0.58)\\ntest['TransactionHour'] = make_hour_feature(test)\\n\\n\""
      ]
     },
     "execution_count": 36,
     "metadata": {},
     "output_type": "execute_result"
    }
   ],
   "source": [
    "# Making day/hour features. See the kernel below:\n",
    "# https://www.kaggle.com/c/ieee-fraud-detection/discussion/100400#latest-579480\n",
    "\"\"\"\n",
    "def make_day_feature(df, offset=0, tname='TransactionDT'):\n",
    "    # found a good offset is 0.58\n",
    "    days = df[tname] / (3600*24)        \n",
    "    encoded_days = np.floor(days-1+offset) % 7\n",
    "    return encoded_days\n",
    "\n",
    "def make_hour_feature(df, tname='TransactionDT'):\n",
    "    hours = df[tname] / (3600)        \n",
    "    encoded_hours = np.floor(hours) % 24\n",
    "    return encoded_hours\n",
    "\n",
    "# check train\n",
    "print(make_day_feature(train, offset=0.58).value_counts().head(10))\n",
    "print(make_hour_feature(train).value_counts().head(10))\n",
    "\n",
    "train['TransactionDay'] = make_day_feature(train, offset=0.58)\n",
    "train['TransactionHour'] = make_hour_feature(train)\n",
    "test['TransactionDay'] = make_day_feature(test, offset=0.58)\n",
    "test['TransactionHour'] = make_hour_feature(test)\n",
    "\n",
    "\"\"\""
   ]
  },
  {
   "cell_type": "code",
   "execution_count": 37,
   "metadata": {},
   "outputs": [
    {
     "data": {
      "text/plain": [
       "\"\\n# Delete columns\\ndrop_true = False\\nif(drop_true):\\n    drop_col = ['V300', 'V309', 'V111', 'C3', 'V124', 'V106', 'V125', 'V315', 'V134', 'V102', 'V123', 'V316', 'V113', 'V136', 'V305', 'V110', 'V299', 'V289', 'V286', 'V318', 'V103', 'V304', 'V116', 'V298', 'V284', 'V293', 'V137', 'V295', 'V301', 'V104', 'V311', 'V115', 'V109', 'V119', 'V321', 'V114', 'V133', 'V122', 'V319', 'V105', 'V112', 'V118', 'V117', 'V121', 'V108', 'V135', 'V320', 'V303', 'V297', 'V120']\\n    X_train.drop(drop_col,axis=1, inplace=True)\\n    X_test.drop(drop_col, axis=1, inplace=True)\\n    X_train.head()\\n    \\n\""
      ]
     },
     "execution_count": 37,
     "metadata": {},
     "output_type": "execute_result"
    }
   ],
   "source": [
    "\"\"\"\n",
    "# Delete columns\n",
    "drop_true = False\n",
    "if(drop_true):\n",
    "    drop_col = ['V300', 'V309', 'V111', 'C3', 'V124', 'V106', 'V125', 'V315', 'V134', 'V102', 'V123', 'V316', 'V113', 'V136', 'V305', 'V110', 'V299', 'V289', 'V286', 'V318', 'V103', 'V304', 'V116', 'V298', 'V284', 'V293', 'V137', 'V295', 'V301', 'V104', 'V311', 'V115', 'V109', 'V119', 'V321', 'V114', 'V133', 'V122', 'V319', 'V105', 'V112', 'V118', 'V117', 'V121', 'V108', 'V135', 'V320', 'V303', 'V297', 'V120']\n",
    "    X_train.drop(drop_col,axis=1, inplace=True)\n",
    "    X_test.drop(drop_col, axis=1, inplace=True)\n",
    "    X_train.head()\n",
    "    \n",
    "\"\"\""
   ]
  },
  {
   "cell_type": "code",
   "execution_count": 38,
   "metadata": {},
   "outputs": [
    {
     "data": {
      "text/plain": [
       "'\\ncorrelation_matrix = X_train.corr()\\nfig = plt.figure(figsize=(12,9))\\nsns.heatmap(correlation_matrix,vmax=0.8,square = True)\\n\\nplt.show()\\n\\n'"
      ]
     },
     "execution_count": 38,
     "metadata": {},
     "output_type": "execute_result"
    }
   ],
   "source": [
    "\"\"\"\n",
    "correlation_matrix = X_train.corr()\n",
    "fig = plt.figure(figsize=(12,9))\n",
    "sns.heatmap(correlation_matrix,vmax=0.8,square = True)\n",
    "\n",
    "plt.show()\n",
    "\n",
    "\"\"\""
   ]
  },
  {
   "cell_type": "markdown",
   "metadata": {},
   "source": [
    "# Training\n",
    "\n",
    "DAYS OF RESEARCH BROUGHT ME TO THE CONCLUSION THAT I SHOULD SIMPLY SPECIFY `tree_method='gpu_hist'` IN ORDER TO ACTIVATE GPU (okay jk, took me an hour to figure out, but I wish XGBoost documentation was more clear about that)."
   ]
  },
  {
   "cell_type": "code",
   "execution_count": 39,
   "metadata": {},
   "outputs": [
    {
     "data": {
      "text/plain": [
       "\"\\nfrom sklearn.cluster import KMeans\\nKMeans(n_clusters=2).fit(X_train)\\n\\nclf = xgb.XGBClassifier(\\n    n_estimators=500,\\n    max_depth=9,\\n    learning_rate=0.05,\\n    subsample=0.9,\\n    colsample_bytree=0.9,\\n    missing=-999,\\n    tree_method='gpu_hist'  # THE MAGICAL PARAMETER\\n)\\n\""
      ]
     },
     "execution_count": 39,
     "metadata": {},
     "output_type": "execute_result"
    }
   ],
   "source": [
    "\"\"\"\n",
    "from sklearn.cluster import KMeans\n",
    "KMeans(n_clusters=2).fit(X_train)\n",
    "\n",
    "clf = xgb.XGBClassifier(\n",
    "    n_estimators=500,\n",
    "    max_depth=9,\n",
    "    learning_rate=0.05,\n",
    "    subsample=0.9,\n",
    "    colsample_bytree=0.9,\n",
    "    missing=-999,\n",
    "    tree_method='gpu_hist'  # THE MAGICAL PARAMETER\n",
    ")\n",
    "\"\"\""
   ]
  },
  {
   "cell_type": "markdown",
   "metadata": {},
   "source": [
    "## KFold and validation"
   ]
  },
  {
   "cell_type": "code",
   "execution_count": 40,
   "metadata": {},
   "outputs": [
    {
     "data": {
      "text/plain": [
       "'\\ndef get_avg_auc_kfold(X_train, y_train, X_test, clf, NFOLDS=2, shuffle=True):\\n    kf = KFold(n_splits=NFOLDS, shuffle=shuffle)\\n    y_preds = np.zeros(X_test.shape[0])\\n    y_oof = np.zeros(X_train.shape[0])\\n    score = 0\\n  \\n    for fold, (tr_idx, val_idx) in enumerate(kf.split(X_train, y_train)):    \\n        X_tr, X_vl = X_train.iloc[tr_idx, :], X_train.iloc[val_idx, :]\\n        y_tr, y_vl = y_train.iloc[tr_idx], y_train.iloc[val_idx]\\n        clf.fit(X_tr, y_tr)\\n        y_pred_train = clf.predict_proba(X_vl)[:,1]\\n        y_oof[val_idx] = y_pred_train\\n        print(\"FOLD: \",fold,\\' AUC {}\\'.format(roc_auc_score(y_vl, y_pred_train)))\\n        score += roc_auc_score(y_vl, y_pred_train) / NFOLDS\\n        y_preds+= clf.predict_proba(X_test)[:,1] / NFOLDS\\n    \\n        del X_tr, X_vl, y_tr, y_vl\\n        gc.collect()\\n    print (\">> Avg AUC: \", score)\\n    return score\\n\\nexecuteKFold = False\\nif(executeKFold):\\n    print(get_avg_auc_kfold(X_train, y_train, X_test, clf))\\n    \\n'"
      ]
     },
     "execution_count": 40,
     "metadata": {},
     "output_type": "execute_result"
    }
   ],
   "source": [
    "\"\"\"\n",
    "def get_avg_auc_kfold(X_train, y_train, X_test, clf, NFOLDS=2, shuffle=True):\n",
    "    kf = KFold(n_splits=NFOLDS, shuffle=shuffle)\n",
    "    y_preds = np.zeros(X_test.shape[0])\n",
    "    y_oof = np.zeros(X_train.shape[0])\n",
    "    score = 0\n",
    "  \n",
    "    for fold, (tr_idx, val_idx) in enumerate(kf.split(X_train, y_train)):    \n",
    "        X_tr, X_vl = X_train.iloc[tr_idx, :], X_train.iloc[val_idx, :]\n",
    "        y_tr, y_vl = y_train.iloc[tr_idx], y_train.iloc[val_idx]\n",
    "        clf.fit(X_tr, y_tr)\n",
    "        y_pred_train = clf.predict_proba(X_vl)[:,1]\n",
    "        y_oof[val_idx] = y_pred_train\n",
    "        print(\"FOLD: \",fold,' AUC {}'.format(roc_auc_score(y_vl, y_pred_train)))\n",
    "        score += roc_auc_score(y_vl, y_pred_train) / NFOLDS\n",
    "        y_preds+= clf.predict_proba(X_test)[:,1] / NFOLDS\n",
    "    \n",
    "        del X_tr, X_vl, y_tr, y_vl\n",
    "        gc.collect()\n",
    "    print (\">> Avg AUC: \", score)\n",
    "    return score\n",
    "\n",
    "executeKFold = False\n",
    "if(executeKFold):\n",
    "    print(get_avg_auc_kfold(X_train, y_train, X_test, clf))\n",
    "    \n",
    "\"\"\""
   ]
  },
  {
   "cell_type": "markdown",
   "metadata": {},
   "source": [
    "# Train\n",
    "## training and visualizing all importances of futures"
   ]
  },
  {
   "cell_type": "code",
   "execution_count": 41,
   "metadata": {},
   "outputs": [
    {
     "data": {
      "text/plain": [
       "\"\\n# Training\\n%time clf.fit(X_train, y_train)\\n\\n# Get xgBoost importances\\nimportance_dict = {}\\nfor import_type in ['weight', 'gain', 'cover']:\\n    importance_dict['xgBoost-'+import_type] = clf.get_booster().get_score(importance_type=import_type)\\n    \\n# MinMax scale all importances\\nimportance_df = pd.DataFrame(importance_dict).fillna(0)\\nimportance_df = pd.DataFrame(\\n    preprocessing.MinMaxScaler().fit_transform(importance_df),\\n    columns=importance_df.columns,\\n    index=importance_df.index\\n)\\n\\n# Create mean column\\nimportance_df['mean'] = importance_df.mean(axis=1)\\n\\n# Plot the feature importances\\nimportance_df.sort_values('mean').head(50).plot(kind='bar', figsize=(20, 7))\\n\\n\""
      ]
     },
     "execution_count": 41,
     "metadata": {},
     "output_type": "execute_result"
    }
   ],
   "source": [
    "\"\"\"\n",
    "# Training\n",
    "%time clf.fit(X_train, y_train)\n",
    "\n",
    "# Get xgBoost importances\n",
    "importance_dict = {}\n",
    "for import_type in ['weight', 'gain', 'cover']:\n",
    "    importance_dict['xgBoost-'+import_type] = clf.get_booster().get_score(importance_type=import_type)\n",
    "    \n",
    "# MinMax scale all importances\n",
    "importance_df = pd.DataFrame(importance_dict).fillna(0)\n",
    "importance_df = pd.DataFrame(\n",
    "    preprocessing.MinMaxScaler().fit_transform(importance_df),\n",
    "    columns=importance_df.columns,\n",
    "    index=importance_df.index\n",
    ")\n",
    "\n",
    "# Create mean column\n",
    "importance_df['mean'] = importance_df.mean(axis=1)\n",
    "\n",
    "# Plot the feature importances\n",
    "importance_df.sort_values('mean').head(50).plot(kind='bar', figsize=(20, 7))\n",
    "\n",
    "\"\"\""
   ]
  },
  {
   "cell_type": "code",
   "execution_count": 42,
   "metadata": {},
   "outputs": [
    {
     "data": {
      "text/plain": [
       "\"\\nsample_submission['isFraud'] = clf.predict_proba(X_test)[:,1]\\nsample_submission.to_csv('simple_xgboost.csv')\\n\""
      ]
     },
     "execution_count": 42,
     "metadata": {},
     "output_type": "execute_result"
    }
   ],
   "source": [
    "\"\"\"\n",
    "sample_submission['isFraud'] = clf.predict_proba(X_test)[:,1]\n",
    "sample_submission.to_csv('simple_xgboost.csv')\n",
    "\"\"\""
   ]
  }
 ],
 "metadata": {
  "kernelspec": {
   "display_name": "Python 3",
   "language": "python",
   "name": "python3"
  },
  "language_info": {
   "codemirror_mode": {
    "name": "ipython",
    "version": 3
   },
   "file_extension": ".py",
   "mimetype": "text/x-python",
   "name": "python",
   "nbconvert_exporter": "python",
   "pygments_lexer": "ipython3",
   "version": "3.7.6"
  }
 },
 "nbformat": 4,
 "nbformat_minor": 1
}
